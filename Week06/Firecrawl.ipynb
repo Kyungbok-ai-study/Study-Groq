{
  "nbformat": 4,
  "nbformat_minor": 0,
  "metadata": {
    "colab": {
      "provenance": [],
      "authorship_tag": "ABX9TyN7XUeQlq2H8p+M4Q6cONg0",
      "include_colab_link": true
    },
    "kernelspec": {
      "name": "python3",
      "display_name": "Python 3"
    },
    "language_info": {
      "name": "python"
    }
  },
  "cells": [
    {
      "cell_type": "markdown",
      "metadata": {
        "id": "view-in-github",
        "colab_type": "text"
      },
      "source": [
        "<a href=\"https://colab.research.google.com/github/ancestor9/2025_Spring_Capstone-Design/blob/main/Week06/Firecrawl.ipynb\" target=\"_parent\"><img src=\"https://colab.research.google.com/assets/colab-badge.svg\" alt=\"Open In Colab\"/></a>"
      ]
    },
    {
      "cell_type": "markdown",
      "source": [
        "## **[🔥Firecrawl](https://www.firecrawl.dev/)**"
      ],
      "metadata": {
        "id": "Kcng4idXJO3H"
      }
    },
    {
      "cell_type": "code",
      "source": [
        "from google.colab import userdata\n",
        "firecrawl_api_key = userdata.get('firecrawl')"
      ],
      "metadata": {
        "id": "uWlUuGPUJjXw"
      },
      "execution_count": 9,
      "outputs": []
    },
    {
      "cell_type": "code",
      "execution_count": 10,
      "metadata": {
        "colab": {
          "base_uri": "https://localhost:8080/"
        },
        "id": "6KkfZfBxILi8",
        "outputId": "d3e683a2-7add-43cd-ad74-1d238485050b"
      },
      "outputs": [
        {
          "output_type": "stream",
          "name": "stdout",
          "text": [
            "Requirement already satisfied: firecrawl-py in /usr/local/lib/python3.11/dist-packages (1.15.0)\n",
            "Requirement already satisfied: requests in /usr/local/lib/python3.11/dist-packages (from firecrawl-py) (2.32.3)\n",
            "Requirement already satisfied: python-dotenv in /usr/local/lib/python3.11/dist-packages (from firecrawl-py) (1.1.0)\n",
            "Requirement already satisfied: websockets in /usr/local/lib/python3.11/dist-packages (from firecrawl-py) (15.0.1)\n",
            "Requirement already satisfied: nest-asyncio in /usr/local/lib/python3.11/dist-packages (from firecrawl-py) (1.6.0)\n",
            "Requirement already satisfied: pydantic>=2.10.3 in /usr/local/lib/python3.11/dist-packages (from firecrawl-py) (2.11.2)\n",
            "Requirement already satisfied: annotated-types>=0.6.0 in /usr/local/lib/python3.11/dist-packages (from pydantic>=2.10.3->firecrawl-py) (0.7.0)\n",
            "Requirement already satisfied: pydantic-core==2.33.1 in /usr/local/lib/python3.11/dist-packages (from pydantic>=2.10.3->firecrawl-py) (2.33.1)\n",
            "Requirement already satisfied: typing-extensions>=4.12.2 in /usr/local/lib/python3.11/dist-packages (from pydantic>=2.10.3->firecrawl-py) (4.13.1)\n",
            "Requirement already satisfied: typing-inspection>=0.4.0 in /usr/local/lib/python3.11/dist-packages (from pydantic>=2.10.3->firecrawl-py) (0.4.0)\n",
            "Requirement already satisfied: charset-normalizer<4,>=2 in /usr/local/lib/python3.11/dist-packages (from requests->firecrawl-py) (3.4.1)\n",
            "Requirement already satisfied: idna<4,>=2.5 in /usr/local/lib/python3.11/dist-packages (from requests->firecrawl-py) (3.10)\n",
            "Requirement already satisfied: urllib3<3,>=1.21.1 in /usr/local/lib/python3.11/dist-packages (from requests->firecrawl-py) (2.3.0)\n",
            "Requirement already satisfied: certifi>=2017.4.17 in /usr/local/lib/python3.11/dist-packages (from requests->firecrawl-py) (2025.1.31)\n"
          ]
        }
      ],
      "source": [
        "# Install with pip install firecrawl-py\n",
        "! pip install firecrawl-py\n"
      ]
    },
    {
      "cell_type": "code",
      "source": [
        "# https://www.firecrawl.dev/playground\n",
        "\n",
        "from firecrawl import FirecrawlApp\n",
        "\n",
        "url = 'https://quotes.toscrape.com/'\n",
        "\n",
        "app = FirecrawlApp(api_key=firecrawl_api_key)\n",
        "\n",
        "response = app.scrape_url(url= url, params={\n",
        "\t'formats': [ 'markdown', 'links' ],\n",
        "\t'onlyMainContent': False\n",
        "})"
      ],
      "metadata": {
        "id": "1zDAjA6eKDr3"
      },
      "execution_count": 11,
      "outputs": []
    },
    {
      "cell_type": "code",
      "source": [
        "response"
      ],
      "metadata": {
        "colab": {
          "base_uri": "https://localhost:8080/"
        },
        "id": "Izwsd6ZwIUb2",
        "outputId": "82b53a63-2b87-4413-f271-a21f3101b263"
      },
      "execution_count": 12,
      "outputs": [
        {
          "output_type": "execute_result",
          "data": {
            "text/plain": [
              "{'markdown': \"# [Quotes to Scrape](https://quotes.toscrape.com/)\\n\\n[Login](https://quotes.toscrape.com/login)\\n\\n“The world as we have created it is a process of our thinking. It cannot be changed without changing our thinking.”by Albert Einstein [(about)](https://quotes.toscrape.com/author/Albert-Einstein)\\n\\nTags:\\n\\n\\n[change](https://quotes.toscrape.com/tag/change/page/1/) [deep-thoughts](https://quotes.toscrape.com/tag/deep-thoughts/page/1/) [thinking](https://quotes.toscrape.com/tag/thinking/page/1/) [world](https://quotes.toscrape.com/tag/world/page/1/)\\n\\n“It is our choices, Harry, that show what we truly are, far more than our abilities.”by J.K. Rowling [(about)](https://quotes.toscrape.com/author/J-K-Rowling)\\n\\nTags:\\n\\n\\n[abilities](https://quotes.toscrape.com/tag/abilities/page/1/) [choices](https://quotes.toscrape.com/tag/choices/page/1/)\\n\\n“There are only two ways to live your life. One is as though nothing is a miracle. The other is as though everything is a miracle.”by Albert Einstein [(about)](https://quotes.toscrape.com/author/Albert-Einstein)\\n\\nTags:\\n\\n\\n[inspirational](https://quotes.toscrape.com/tag/inspirational/page/1/) [life](https://quotes.toscrape.com/tag/life/page/1/) [live](https://quotes.toscrape.com/tag/live/page/1/) [miracle](https://quotes.toscrape.com/tag/miracle/page/1/) [miracles](https://quotes.toscrape.com/tag/miracles/page/1/)\\n\\n“The person, be it gentleman or lady, who has not pleasure in a good novel, must be intolerably stupid.”by Jane Austen [(about)](https://quotes.toscrape.com/author/Jane-Austen)\\n\\nTags:\\n\\n\\n[aliteracy](https://quotes.toscrape.com/tag/aliteracy/page/1/) [books](https://quotes.toscrape.com/tag/books/page/1/) [classic](https://quotes.toscrape.com/tag/classic/page/1/) [humor](https://quotes.toscrape.com/tag/humor/page/1/)\\n\\n“Imperfection is beauty, madness is genius and it's better to be absolutely ridiculous than absolutely boring.”by Marilyn Monroe [(about)](https://quotes.toscrape.com/author/Marilyn-Monroe)\\n\\nTags:\\n\\n\\n[be-yourself](https://quotes.toscrape.com/tag/be-yourself/page/1/) [inspirational](https://quotes.toscrape.com/tag/inspirational/page/1/)\\n\\n“Try not to become a man of success. Rather become a man of value.”by Albert Einstein [(about)](https://quotes.toscrape.com/author/Albert-Einstein)\\n\\nTags:\\n\\n\\n[adulthood](https://quotes.toscrape.com/tag/adulthood/page/1/) [success](https://quotes.toscrape.com/tag/success/page/1/) [value](https://quotes.toscrape.com/tag/value/page/1/)\\n\\n“It is better to be hated for what you are than to be loved for what you are not.”by André Gide [(about)](https://quotes.toscrape.com/author/Andre-Gide)\\n\\nTags:\\n\\n\\n[life](https://quotes.toscrape.com/tag/life/page/1/) [love](https://quotes.toscrape.com/tag/love/page/1/)\\n\\n“I have not failed. I've just found 10,000 ways that won't work.”by Thomas A. Edison [(about)](https://quotes.toscrape.com/author/Thomas-A-Edison)\\n\\nTags:\\n\\n\\n[edison](https://quotes.toscrape.com/tag/edison/page/1/) [failure](https://quotes.toscrape.com/tag/failure/page/1/) [inspirational](https://quotes.toscrape.com/tag/inspirational/page/1/) [paraphrased](https://quotes.toscrape.com/tag/paraphrased/page/1/)\\n\\n“A woman is like a tea bag; you never know how strong it is until it's in hot water.”by Eleanor Roosevelt [(about)](https://quotes.toscrape.com/author/Eleanor-Roosevelt)\\n\\nTags:\\n\\n\\n[misattributed-eleanor-roosevelt](https://quotes.toscrape.com/tag/misattributed-eleanor-roosevelt/page/1/)\\n\\n“A day without sunshine is like, you know, night.”by Steve Martin [(about)](https://quotes.toscrape.com/author/Steve-Martin)\\n\\nTags:\\n\\n\\n[humor](https://quotes.toscrape.com/tag/humor/page/1/) [obvious](https://quotes.toscrape.com/tag/obvious/page/1/) [simile](https://quotes.toscrape.com/tag/simile/page/1/)\\n\\n- [Next →](https://quotes.toscrape.com/page/2/)\\n\\n## Top Ten tags\\n\\n[love](https://quotes.toscrape.com/tag/love/)[inspirational](https://quotes.toscrape.com/tag/inspirational/)[life](https://quotes.toscrape.com/tag/life/)[humor](https://quotes.toscrape.com/tag/humor/)[books](https://quotes.toscrape.com/tag/books/)[reading](https://quotes.toscrape.com/tag/reading/)[friendship](https://quotes.toscrape.com/tag/friendship/)[friends](https://quotes.toscrape.com/tag/friends/)[truth](https://quotes.toscrape.com/tag/truth/)[simile](https://quotes.toscrape.com/tag/simile/)\\n\\nQuotes by: [GoodReads.com](https://www.goodreads.com/quotes)\\n\\nMade with ❤ by [Zyte](https://www.zyte.com/)\",\n",
              " 'metadata': {'title': 'Quotes to Scrape',\n",
              "  'language': 'en',\n",
              "  'scrapeId': 'f2d4b47e-8f5c-4514-b15e-1fe984b14d57',\n",
              "  'sourceURL': 'https://quotes.toscrape.com/',\n",
              "  'url': 'https://quotes.toscrape.com/',\n",
              "  'statusCode': 200},\n",
              " 'links': ['https://quotes.toscrape.com/',\n",
              "  'https://quotes.toscrape.com/login',\n",
              "  'https://quotes.toscrape.com/author/Albert-Einstein',\n",
              "  'https://quotes.toscrape.com/tag/change/page/1/',\n",
              "  'https://quotes.toscrape.com/tag/deep-thoughts/page/1/',\n",
              "  'https://quotes.toscrape.com/tag/thinking/page/1/',\n",
              "  'https://quotes.toscrape.com/tag/world/page/1/',\n",
              "  'https://quotes.toscrape.com/author/J-K-Rowling',\n",
              "  'https://quotes.toscrape.com/tag/abilities/page/1/',\n",
              "  'https://quotes.toscrape.com/tag/choices/page/1/',\n",
              "  'https://quotes.toscrape.com/tag/inspirational/page/1/',\n",
              "  'https://quotes.toscrape.com/tag/life/page/1/',\n",
              "  'https://quotes.toscrape.com/tag/live/page/1/',\n",
              "  'https://quotes.toscrape.com/tag/miracle/page/1/',\n",
              "  'https://quotes.toscrape.com/tag/miracles/page/1/',\n",
              "  'https://quotes.toscrape.com/author/Jane-Austen',\n",
              "  'https://quotes.toscrape.com/tag/aliteracy/page/1/',\n",
              "  'https://quotes.toscrape.com/tag/books/page/1/',\n",
              "  'https://quotes.toscrape.com/tag/classic/page/1/',\n",
              "  'https://quotes.toscrape.com/tag/humor/page/1/',\n",
              "  'https://quotes.toscrape.com/author/Marilyn-Monroe',\n",
              "  'https://quotes.toscrape.com/tag/be-yourself/page/1/',\n",
              "  'https://quotes.toscrape.com/tag/adulthood/page/1/',\n",
              "  'https://quotes.toscrape.com/tag/success/page/1/',\n",
              "  'https://quotes.toscrape.com/tag/value/page/1/',\n",
              "  'https://quotes.toscrape.com/author/Andre-Gide',\n",
              "  'https://quotes.toscrape.com/tag/love/page/1/',\n",
              "  'https://quotes.toscrape.com/author/Thomas-A-Edison',\n",
              "  'https://quotes.toscrape.com/tag/edison/page/1/',\n",
              "  'https://quotes.toscrape.com/tag/failure/page/1/',\n",
              "  'https://quotes.toscrape.com/tag/paraphrased/page/1/',\n",
              "  'https://quotes.toscrape.com/author/Eleanor-Roosevelt',\n",
              "  'https://quotes.toscrape.com/tag/misattributed-eleanor-roosevelt/page/1/',\n",
              "  'https://quotes.toscrape.com/author/Steve-Martin',\n",
              "  'https://quotes.toscrape.com/tag/obvious/page/1/',\n",
              "  'https://quotes.toscrape.com/tag/simile/page/1/',\n",
              "  'https://quotes.toscrape.com/page/2/',\n",
              "  'https://quotes.toscrape.com/tag/love/',\n",
              "  'https://quotes.toscrape.com/tag/inspirational/',\n",
              "  'https://quotes.toscrape.com/tag/life/',\n",
              "  'https://quotes.toscrape.com/tag/humor/',\n",
              "  'https://quotes.toscrape.com/tag/books/',\n",
              "  'https://quotes.toscrape.com/tag/reading/',\n",
              "  'https://quotes.toscrape.com/tag/friendship/',\n",
              "  'https://quotes.toscrape.com/tag/friends/',\n",
              "  'https://quotes.toscrape.com/tag/truth/',\n",
              "  'https://quotes.toscrape.com/tag/simile/',\n",
              "  'https://www.goodreads.com/quotes',\n",
              "  'https://www.zyte.com/']}"
            ]
          },
          "metadata": {},
          "execution_count": 12
        }
      ]
    },
    {
      "cell_type": "code",
      "source": [
        "url = 'https://comic.naver.com/webtoon'\n",
        "\n",
        "response = app.scrape_url(url=url, params={\n",
        "\t'formats': [ 'markdown', 'links' ],\n",
        "\t'onlyMainContent': False\n",
        "})"
      ],
      "metadata": {
        "id": "Y95DiCysIec7"
      },
      "execution_count": 15,
      "outputs": []
    },
    {
      "cell_type": "code",
      "source": [
        "response['markdown']"
      ],
      "metadata": {
        "id": "tf0vHslLJAE5"
      },
      "execution_count": null,
      "outputs": []
    },
    {
      "cell_type": "code",
      "source": [
        "response"
      ],
      "metadata": {
        "id": "8-DDXxF5JDRD"
      },
      "execution_count": null,
      "outputs": []
    }
  ]
}