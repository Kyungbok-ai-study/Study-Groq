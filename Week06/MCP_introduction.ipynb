{
  "nbformat": 4,
  "nbformat_minor": 0,
  "metadata": {
    "colab": {
      "provenance": [],
      "authorship_tag": "ABX9TyM9JI3qrnPO37udAX4LM9jz",
      "include_colab_link": true
    },
    "kernelspec": {
      "name": "python3",
      "display_name": "Python 3"
    },
    "language_info": {
      "name": "python"
    }
  },
  "cells": [
    {
      "cell_type": "markdown",
      "metadata": {
        "id": "view-in-github",
        "colab_type": "text"
      },
      "source": [
        "<a href=\"https://colab.research.google.com/github/ancestor9/2025_Spring_Capstone-Design/blob/main/Week06/MCP_introduction.ipynb\" target=\"_parent\"><img src=\"https://colab.research.google.com/assets/colab-badge.svg\" alt=\"Open In Colab\"/></a>"
      ]
    },
    {
      "cell_type": "code",
      "source": [
        "# Step 1: 필요한 라이브러리 설치\n",
        "!pip install streamlit pyngrok praisonaiagents --quiet"
      ],
      "metadata": {
        "colab": {
          "base_uri": "https://localhost:8080/"
        },
        "id": "EYxWJzrt_ES3",
        "outputId": "0147dfcc-f2d0-4efe-b121-36e917e1b6b0"
      },
      "execution_count": 5,
      "outputs": [
        {
          "output_type": "stream",
          "name": "stdout",
          "text": [
            "\u001b[2K     \u001b[90m━━━━━━━━━━━━━━━━━━━━━━━━━━━━━━━━━━━━━━━━\u001b[0m \u001b[32m44.3/44.3 kB\u001b[0m \u001b[31m1.9 MB/s\u001b[0m eta \u001b[36m0:00:00\u001b[0m\n",
            "\u001b[2K   \u001b[90m━━━━━━━━━━━━━━━━━━━━━━━━━━━━━━━━━━━━━━━━\u001b[0m \u001b[32m9.8/9.8 MB\u001b[0m \u001b[31m66.9 MB/s\u001b[0m eta \u001b[36m0:00:00\u001b[0m\n",
            "\u001b[2K   \u001b[90m━━━━━━━━━━━━━━━━━━━━━━━━━━━━━━━━━━━━━━━━\u001b[0m \u001b[32m132.0/132.0 kB\u001b[0m \u001b[31m9.7 MB/s\u001b[0m eta \u001b[36m0:00:00\u001b[0m\n",
            "\u001b[2K   \u001b[90m━━━━━━━━━━━━━━━━━━━━━━━━━━━━━━━━━━━━━━━━\u001b[0m \u001b[32m76.1/76.1 kB\u001b[0m \u001b[31m5.0 MB/s\u001b[0m eta \u001b[36m0:00:00\u001b[0m\n",
            "\u001b[2K   \u001b[90m━━━━━━━━━━━━━━━━━━━━━━━━━━━━━━━━━━━━━━━━\u001b[0m \u001b[32m6.9/6.9 MB\u001b[0m \u001b[31m89.7 MB/s\u001b[0m eta \u001b[36m0:00:00\u001b[0m\n",
            "\u001b[2K   \u001b[90m━━━━━━━━━━━━━━━━━━━━━━━━━━━━━━━━━━━━━━━━\u001b[0m \u001b[32m79.1/79.1 kB\u001b[0m \u001b[31m3.5 MB/s\u001b[0m eta \u001b[36m0:00:00\u001b[0m\n",
            "\u001b[2K   \u001b[90m━━━━━━━━━━━━━━━━━━━━━━━━━━━━━━━━━━━━━━━━\u001b[0m \u001b[32m72.0/72.0 kB\u001b[0m \u001b[31m4.8 MB/s\u001b[0m eta \u001b[36m0:00:00\u001b[0m\n",
            "\u001b[2K   \u001b[90m━━━━━━━━━━━━━━━━━━━━━━━━━━━━━━━━━━━━━━━━\u001b[0m \u001b[32m62.3/62.3 kB\u001b[0m \u001b[31m3.9 MB/s\u001b[0m eta \u001b[36m0:00:00\u001b[0m\n",
            "\u001b[?25h"
          ]
        }
      ]
    },
    {
      "cell_type": "code",
      "source": [
        "# Step 2: streamlit_app.py 파일 작성\n",
        "code = '''\n",
        "import streamlit as st\n",
        "from praisonaiagents import Agent, MCP\n",
        "\n",
        "st.title(\"🏠 Airbnb Booking Assistant\")\n",
        "\n",
        "@st.cache_resource\n",
        "def get_agent():\n",
        "    return Agent(\n",
        "        instructions=\"You help book apartments on Airbnb.\",\n",
        "        llm=\"gpt-4o-mini\",\n",
        "        tools=MCP(\"npx -y @openbnb/mcp-server-airbnb --ignore-robots-txt\")\n",
        "    )\n",
        "\n",
        "if \"messages\" not in st.session_state:\n",
        "    st.session_state.messages = []\n",
        "\n",
        "for message in st.session_state.messages:\n",
        "    with st.chat_message(message[\"role\"]):\n",
        "        st.markdown(message[\"content\"])\n",
        "\n",
        "with st.form(\"booking_form\"):\n",
        "    st.subheader(\"Enter your booking details\")\n",
        "\n",
        "    destination = st.text_input(\"Destination:\", \"Paris\")\n",
        "    col1, col2 = st.columns(2)\n",
        "    with col1:\n",
        "        check_in = st.date_input(\"Check-in date\")\n",
        "    with col2:\n",
        "        check_out = st.date_input(\"Check-out date\")\n",
        "    adults = st.number_input(\"Number of adults:\", min_value=1, max_value=10, value=2)\n",
        "\n",
        "    submitted = st.form_submit_button(\"Search for accommodations\")\n",
        "\n",
        "    if submitted:\n",
        "        search_agent = get_agent()\n",
        "        query = f\"I want to book an apartment in {destination} from {check_in.strftime('%m/%d/%Y')} to {check_out.strftime('%m/%d/%Y')} for {adults} adults\"\n",
        "        st.session_state.messages.append({\"role\": \"user\", \"content\": query})\n",
        "        with st.chat_message(\"user\"):\n",
        "            st.markdown(query)\n",
        "        with st.chat_message(\"assistant\"):\n",
        "            with st.spinner(\"Searching for accommodations...\"):\n",
        "                response = search_agent.start(query)\n",
        "                st.markdown(response)\n",
        "        st.session_state.messages.append({\"role\": \"assistant\", \"content\": response})\n",
        "\n",
        "if st.session_state.messages:\n",
        "    prompt = st.chat_input(\"Ask a follow-up question about the accommodations\")\n",
        "    if prompt:\n",
        "        search_agent = get_agent()\n",
        "        st.session_state.messages.append({\"role\": \"user\", \"content\": prompt})\n",
        "        with st.chat_message(\"user\"):\n",
        "            st.markdown(prompt)\n",
        "        with st.chat_message(\"assistant\"):\n",
        "            with st.spinner(\"Thinking...\"):\n",
        "                response = search_agent.start(prompt)\n",
        "                st.markdown(response)\n",
        "        st.session_state.messages.append({\"role\": \"assistant\", \"content\": response})\n",
        "'''\n",
        "\n",
        "with open(\"streamlit_app.py\", \"w\") as f:\n",
        "    f.write(code)\n"
      ],
      "metadata": {
        "id": "lqEbq8x9_JGP"
      },
      "execution_count": 6,
      "outputs": []
    },
    {
      "cell_type": "code",
      "source": [
        "from google.colab import userdata\n",
        "\n",
        "# ngrok 인증 토큰 불러오기\n",
        "ngrok_token = userdata.get('ngrok')\n",
        "\n",
        "# ngrok에 인증 토큰 등록\n",
        "!ngrok config add-authtoken {ngrok_token}\n"
      ],
      "metadata": {
        "colab": {
          "base_uri": "https://localhost:8080/"
        },
        "id": "6TdEawXz_kGh",
        "outputId": "883517c1-ad95-4b88-fdcb-8d91ec387d74"
      },
      "execution_count": 7,
      "outputs": [
        {
          "output_type": "stream",
          "name": "stdout",
          "text": [
            "Authtoken saved to configuration file: /root/.config/ngrok/ngrok.yml\n"
          ]
        }
      ]
    },
    {
      "cell_type": "code",
      "source": [
        "from pyngrok import ngrok\n",
        "\n",
        "ngrok.kill()  # 혹시 모를 세션 종료\n",
        "\n",
        "# 정확한 포맷: addr 파라미터 사용\n",
        "public_url = ngrok.connect(addr=\"8501\", proto=\"http\")\n",
        "print(f\"✅ Streamlit App is running: {public_url}\")\n",
        "\n",
        "# 스트림릿 앱 실행\n",
        "!streamlit run streamlit_app.py &>/dev/null &\n"
      ],
      "metadata": {
        "colab": {
          "base_uri": "https://localhost:8080/"
        },
        "id": "RCcZYa5hAFz8",
        "outputId": "eff23d60-59f0-4db0-b594-04f955a62e99"
      },
      "execution_count": 8,
      "outputs": [
        {
          "output_type": "stream",
          "name": "stdout",
          "text": [
            "✅ Streamlit App is running: NgrokTunnel: \"https://f5e8-34-16-95-210.ngrok-free.app\" -> \"http://localhost:8501\"\n"
          ]
        }
      ]
    },
    {
      "cell_type": "code",
      "source": [],
      "metadata": {
        "id": "N1cwqiLpDluN"
      },
      "execution_count": null,
      "outputs": []
    }
  ]
}