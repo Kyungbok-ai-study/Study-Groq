{
  "nbformat": 4,
  "nbformat_minor": 0,
  "metadata": {
    "colab": {
      "provenance": []
    },
    "kernelspec": {
      "name": "python3",
      "display_name": "Python 3"
    },
    "language_info": {
      "name": "python"
    }
  },
  "cells": [
    {
      "cell_type": "code",
      "execution_count": 5,
      "metadata": {
        "id": "S-bCTr716nPB"
      },
      "outputs": [],
      "source": [
        "! pip install fastapi --quiet"
      ]
    },
    {
      "cell_type": "markdown",
      "source": [
        "### Request는 FastAPI에서 HTTP 요청을 처리하기 위해 사용하는 객체\n",
        "### starlette.requests.Request 클래스를 기반으로 하며, HTTP 요청과 관련된 다양한 정보를 제공"
      ],
      "metadata": {
        "id": "_GZ9jyj79IqM"
      }
    },
    {
      "cell_type": "code",
      "source": [
        "from fastapi import Request"
      ],
      "metadata": {
        "id": "5M8nCEDt9Hiz"
      },
      "execution_count": null,
      "outputs": []
    },
    {
      "cell_type": "code",
      "source": [
        "request= Request\n",
        "request"
      ],
      "metadata": {
        "colab": {
          "base_uri": "https://localhost:8080/",
          "height": 138
        },
        "id": "sdUCGk3_7Lxq",
        "outputId": "133f42ce-ca33-45cf-c943-1a2eeedc7ed1"
      },
      "execution_count": 10,
      "outputs": [
        {
          "output_type": "execute_result",
          "data": {
            "text/plain": [
              "starlette.requests.Request"
            ],
            "text/html": [
              "<div style=\"max-width:800px; border: 1px solid var(--colab-border-color);\"><style>\n",
              "      pre.function-repr-contents {\n",
              "        overflow-x: auto;\n",
              "        padding: 8px 12px;\n",
              "        max-height: 500px;\n",
              "      }\n",
              "\n",
              "      pre.function-repr-contents.function-repr-contents-collapsed {\n",
              "        cursor: pointer;\n",
              "        max-height: 100px;\n",
              "      }\n",
              "    </style>\n",
              "    <pre style=\"white-space: initial; background:\n",
              "         var(--colab-secondary-surface-color); padding: 8px 12px;\n",
              "         border-bottom: 1px solid var(--colab-border-color);\"><b>starlette.requests.Request</b><br/>def __init__(scope: Scope, receive: Receive=empty_receive, send: Send=empty_send)</pre><pre class=\"function-repr-contents function-repr-contents-collapsed\" style=\"\"><a class=\"filepath\" style=\"display:none\" href=\"#\">/usr/local/lib/python3.11/dist-packages/starlette/requests.py</a>A base class for incoming HTTP connections, that is used to provide\n",
              "any functionality that is common to both `Request` and `WebSocket`.</pre>\n",
              "      <script>\n",
              "      if (google.colab.kernel.accessAllowed && google.colab.files && google.colab.files.view) {\n",
              "        for (const element of document.querySelectorAll('.filepath')) {\n",
              "          element.style.display = 'block'\n",
              "          element.onclick = (event) => {\n",
              "            event.preventDefault();\n",
              "            event.stopPropagation();\n",
              "            google.colab.files.view(element.textContent, 198);\n",
              "          };\n",
              "        }\n",
              "      }\n",
              "      for (const element of document.querySelectorAll('.function-repr-contents')) {\n",
              "        element.onclick = (event) => {\n",
              "          event.preventDefault();\n",
              "          event.stopPropagation();\n",
              "          element.classList.toggle('function-repr-contents-collapsed');\n",
              "        };\n",
              "      }\n",
              "      </script>\n",
              "      </div>"
            ]
          },
          "metadata": {},
          "execution_count": 10
        }
      ]
    },
    {
      "cell_type": "code",
      "source": [
        "print(f\"method: {request.method}. client: {request.client}\")"
      ],
      "metadata": {
        "colab": {
          "base_uri": "https://localhost:8080/"
        },
        "id": "ZPcZSJeK7P-T",
        "outputId": "eda76623-91ec-4e88-a81c-45f2998e8402"
      },
      "execution_count": 8,
      "outputs": [
        {
          "output_type": "stream",
          "name": "stdout",
          "text": [
            "method: <property object at 0x794760c91c10>. client: <property object at 0x794760c91990>\n"
          ]
        }
      ]
    },
    {
      "cell_type": "code",
      "source": [
        "from fastapi import FastAPI, Request  # FastAPI 및 Request 객체 임포트\n",
        "from starlette.testclient import TestClient  # TestClient를 사용하여 요청 테스트\n",
        "\n",
        "# FastAPI 애플리케이션 객체 생성\n",
        "app = FastAPI()\n",
        "\n",
        "# Request 객체를 활용하여 HTTP 요청 정보를 반환하는 엔드포인트\n",
        "@app.get(\"/\")  # GET 요청이 들어올 경우 실행\n",
        "async def get_request_info(request: Request):\n",
        "    return {\n",
        "        \"method\": request.method,        # HTTP 요청 방식 (예: GET, POST, PUT 등)\n",
        "        \"client\": request.client,        # 요청을 보낸 클라이언트 (IP 및 포트 정보 포함)\n",
        "        \"full_url\": str(request.url),    # 요청한 전체 URL\n",
        "        \"base_url\": str(request.base_url),  # 기본 URL (도메인 및 포트만 포함)\n",
        "        \"path_params\": request.path_params,  # 경로 매개변수 (없으면 빈 딕셔너리)\n",
        "        \"query_params\": request.query_params,  # 쿼리 스트링 파라미터 (예: `?name=John&age=30`)\n",
        "        \"cookies\": request.cookies       # 요청에 포함된 쿠키 값\n",
        "    }\n",
        "\n",
        "# TestClient를 사용하여 API 요청을 테스트 (FastAPI 서버 실행 없이 요청 가능)\n",
        "client = TestClient(app)  # FastAPI 애플리케이션을 위한 테스트 클라이언트 생성\n",
        "response = client.get(\"/\")  # 임의의 GET 요청을 실행\n",
        "print(response.json())  # 응답 데이터를 JSON 형식으로 출력\n"
      ],
      "metadata": {
        "colab": {
          "base_uri": "https://localhost:8080/"
        },
        "id": "qWRhjkQA69Hj",
        "outputId": "54d20296-3aa2-400e-90dc-1ab96a1c01f1"
      },
      "execution_count": 16,
      "outputs": [
        {
          "output_type": "stream",
          "name": "stdout",
          "text": [
            "{'method': 'GET', 'client': ['testclient', 50000], 'full_url': 'http://testserver/', 'base_url': 'http://testserver/', 'path_params': {}, 'query_params': {}, 'cookies': {}}\n"
          ]
        }
      ]
    },
    {
      "cell_type": "code",
      "source": [],
      "metadata": {
        "id": "PDtFfWGx8r5S"
      },
      "execution_count": null,
      "outputs": []
    }
  ]
}